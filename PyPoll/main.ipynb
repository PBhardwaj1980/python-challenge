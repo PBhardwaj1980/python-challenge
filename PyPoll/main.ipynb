{
 "cells": [
  {
   "cell_type": "code",
   "execution_count": 4,
   "id": "8b211ebf-38fd-4394-841a-5e08d9592a68",
   "metadata": {},
   "outputs": [
    {
     "name": "stdout",
     "output_type": "stream",
     "text": [
      "Election Results\n",
      "--------------------------\n",
      "Total Votes: 369711\n",
      "--------------------------\n",
      "Charles Casper Stockham: 23.000% (85213)\n",
      "Diana DeGette: 74.000% (272892)\n",
      "Raymon Anthony Doane: 3.000% (11606)\n",
      "--------------------------\n",
      "Winner: Diana DeGette\n",
      "--------------------------\n"
     ]
    },
    {
     "data": {
      "text/plain": [
       "79"
      ]
     },
     "execution_count": 4,
     "metadata": {},
     "output_type": "execute_result"
    }
   ],
   "source": [
    "# Importing modules \n",
    "import os\n",
    "\n",
    "import csv\n",
    "\n",
    "# declaring path for csv file\n",
    "Elec_path = os.path.join('Resources', \"election_data.csv\")\n",
    "#candidate details\n",
    "Candidates = []\n",
    "#vote count\n",
    "Vote_count = []\n",
    "#Percentage of votes\n",
    "percent_votes = []\n",
    "# Total_votes_counter\n",
    "Total_votes = 0\n",
    "\n",
    "# Reading csv file\n",
    "with open(Elec_path, newline=\"\") as csvfile:\n",
    "    csvreader = csv.reader(csvfile, delimiter=\",\")\n",
    "    # Reading header row\n",
    "    csv_header = next(csvreader)\n",
    "\n",
    "    for row in csvreader:\n",
    "        # Addition of vote\n",
    "        Total_votes += 1\n",
    "        if row[2] not in Candidates:\n",
    "            Candidates.append(row[2])\n",
    "            index = Candidates.index(row[2])\n",
    "            Vote_count.append(1)\n",
    "        else:\n",
    "            index = Candidates.index(row[2])\n",
    "            Vote_count[index] += 1\n",
    "    # Add to percentage of votes\n",
    "    for votes in Vote_count:\n",
    "        percentage = (votes/Total_votes) * 100\n",
    "        percentage = round(percentage)\n",
    "        percentage = \"%.3f%%\" % percentage\n",
    "        percent_votes.append(percentage)\n",
    "\n",
    "    #Winning candidate\n",
    "    winner = max(Vote_count)\n",
    "    index = Vote_count.index(winner)\n",
    "    winning_candidate = Candidates[index]\n",
    "\n",
    "# Printing results\n",
    "print(\"Election Results\")\n",
    "print(\"--------------------------\")\n",
    "print(f\"Total Votes: {str(Total_votes)}\")\n",
    "print(\"--------------------------\")\n",
    "for i in range(len(Candidates)):\n",
    "    print(f\"{Candidates[i]}: {str(percent_votes[i])} ({str(Vote_count[i])})\")\n",
    "print(\"--------------------------\")\n",
    "print(f\"Winner: {winning_candidate}\")\n",
    "print(\"--------------------------\")\n",
    "\n",
    "# Generating output file\n",
    "output_file = os.path.join('Analysis', 'Elec_output.txt')\n",
    "\n",
    "pyPolloutput = open(output_file, \"w\")\n",
    "\n",
    "line1 = \"Election Results\"\n",
    "line2 = \"--------------------------\"\n",
    "line3 = str(f\"Total Votes: {str(Total_votes)}\")\n",
    "line4 = str(\"--------------------------\")\n",
    "pyPolloutput.write('{}\\n{}\\n{}\\n{}\\n'.format(line1, line2, line3, line4))\n",
    "for i in range(len(Candidates)):\n",
    "    line = str(\n",
    "        f\"{Candidates[i]}: {str(percent_votes[i])} ({str(Vote_count[i])})\")\n",
    "    pyPolloutput.write('{}\\n'.format(line))\n",
    "line5 = \"--------------------------\"\n",
    "line6 = str(f\"Winner is: {winning_candidate}\")\n",
    "line7 = \"--------------------------\"\n",
    "pyPolloutput.write('{}\\n{}\\n{}\\n'.format(line5, line6, line7))\n",
    "\n"
   ]
  },
  {
   "cell_type": "code",
   "execution_count": null,
   "id": "3d38a476-8631-4cef-a91f-fa16b378e97e",
   "metadata": {},
   "outputs": [],
   "source": []
  }
 ],
 "metadata": {
  "kernelspec": {
   "display_name": "Python 3 (ipykernel)",
   "language": "python",
   "name": "python3"
  },
  "language_info": {
   "codemirror_mode": {
    "name": "ipython",
    "version": 3
   },
   "file_extension": ".py",
   "mimetype": "text/x-python",
   "name": "python",
   "nbconvert_exporter": "python",
   "pygments_lexer": "ipython3",
   "version": "3.11.5"
  }
 },
 "nbformat": 4,
 "nbformat_minor": 5
}
