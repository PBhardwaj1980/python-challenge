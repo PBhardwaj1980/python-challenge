{
 "cells": [
  {
   "cell_type": "code",
   "execution_count": 417,
   "id": "ac7c2e48-eb3b-4d3f-ab0e-4f9f1e6ad18e",
   "metadata": {
    "tags": []
   },
   "outputs": [
    {
     "name": "stdout",
     "output_type": "stream",
     "text": [
      "Header: Date,Profit_Losses\n",
      "\n",
      "Financial Analysis\n",
      "....................................................................................\n",
      "total months: 86\n",
      "Total: $22564198\n",
      "Average_Revenue: $-8311.11\n",
      "Greatest Increase in Profits: Aug-16 $1862002\n",
      "Greatest Decrease in Profits: Feb-14 $-1825558\n"
     ]
    }
   ],
   "source": [
    "# import the os module\n",
    "import os\n",
    "\n",
    "# Module for reading CSV file\n",
    "import csv\n",
    "\n",
    "#Find the profit and Loss\n",
    "#joining path\n",
    "budget_data = os.path.join(\"Resources\", \"budget_data.csv\")\n",
    "\n",
    "# open and read csv\n",
    "with open(budget_data, newline=\"\") as csv_file:\n",
    "    csvreader = csv.reader(csv_file, delimiter=\",\")\n",
    "    csv_header = next(csv_file)\n",
    "    # skip header row\n",
    "    print(f\"Header: {csv_header}\")\n",
    "\n",
    "    # find net amount of profit and loss\n",
    "    Profit_loss = []\n",
    "    months = []\n",
    "\n",
    "    #read through each row of data after header\n",
    "    for rows in csvreader:\n",
    "        Profit_loss.append(int(rows[1]))\n",
    "        months.append(rows[0])\n",
    "\n",
    "    # find revenue change\n",
    "    Revenue_change = []\n",
    "\n",
    "    for i in range(1, len(Profit_loss)):\n",
    "        Revenue_change.append((int(Profit_loss[i]) - int(Profit_loss[i-1])))\n",
    "    \n",
    "    # calculate average revenue change\n",
    "    Average_Revenue = sum(Revenue_change) / len(Revenue_change)\n",
    "    Average_Revenue = round(Average_Revenue, 2)\n",
    "    \n",
    "    # greatest increase in revenue\n",
    "    greatest_increase = max(revenue_change)\n",
    "    # greatest decrease in revenue\n",
    "    greatest_decrease = min(revenue_change)\n",
    "\n",
    "\n",
    "    # print the Results\n",
    "    print(\"Financial Analysis\")\n",
    "\n",
    "    print(\"....................................................................................\")\n",
    "\n",
    "    print(\"total months: \" + str(total_months))\n",
    "\n",
    "    print(\"Total: \" + \"$\" + str(sum(Profit_loss)))\n",
    "    \n",
    "    print(\"Average_Revenue: \" + \"$\" + str(round(Average_Revenue, 2)))\n",
    "\n",
    "    print(\"Greatest Increase in Profits: \" + str(months[revenue_change.index(max(revenue_change))+1]) + \" \" + \"$\" + str(greatest_increase))\n",
    "\n",
    "    print(\"Greatest Decrease in Profits: \" + str(months[revenue_change.index(min(revenue_change))+1]) + \" \" + \"$\" + str(greatest_decrease))\n",
    "    \n",
    "     # output to a text file\n",
    "\n",
    "    file = open(\"output.txt\",\"w\")\n",
    "\n",
    "    file.write(\"Financial Analysis\" + \"\\n\")\n",
    "\n",
    "    file.write(\"+++++++++++++++++++++++++++++++++++++++++++++++++++++++++++++++++++++++++++++++++++++++++++\" + \"\\n\")\n",
    "\n",
    "    file.write(\"total months: \" + str(total_months) + \"\\n\")\n",
    "\n",
    "    file.write(\"Total: \" + \"$\" + str(sum(Profit_loss)) + \"\\n\")\n",
    "\n",
    "    file.write(\"Average_Revenue: \" + \"$\" + str(Average_Revenue) + \"\\n\")\n",
    "\n",
    "    file.write(\"Greatest Increase in Profits: \" + str(months[revenue_change.index(max(revenue_change))+1]) + \" \" + \"$\" + str(greatest_increase) + \"\\n\")\n",
    "\n",
    "    file.write(\"Greatest Decrease in Profits: \" + str(months[revenue_change.index(min(revenue_change))+1]) + \" \" + \"$\" + str(greatest_decrease) + \"\\n\")\n",
    "\n",
    "    file.close()\n"
   ]
  }
 ],
 "metadata": {
  "kernelspec": {
   "display_name": "Python 3 (ipykernel)",
   "language": "python",
   "name": "python3"
  },
  "language_info": {
   "codemirror_mode": {
    "name": "ipython",
    "version": 3
   },
   "file_extension": ".py",
   "mimetype": "text/x-python",
   "name": "python",
   "nbconvert_exporter": "python",
   "pygments_lexer": "ipython3",
   "version": "3.11.5"
  }
 },
 "nbformat": 4,
 "nbformat_minor": 5
}
